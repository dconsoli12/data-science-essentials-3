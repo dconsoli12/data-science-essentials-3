{
 "cells": [
  {
   "cell_type": "code",
   "execution_count": 2,
   "metadata": {},
   "outputs": [],
   "source": [
    "import pandas as pd\n",
    "import seaborn as sns"
   ]
  },
  {
   "cell_type": "code",
   "execution_count": 3,
   "metadata": {},
   "outputs": [],
   "source": [
    "#import heart attack costs dataframe\n",
    "\n",
    "ha_costs_df = pd.read_csv('../data/mmd_heart_attack_data.csv')"
   ]
  },
  {
   "cell_type": "code",
   "execution_count": 4,
   "metadata": {
    "scrolled": true
   },
   "outputs": [],
   "source": [
    "#remove unneccessary columns aka those which have all the same value\n",
    "\n",
    "ha_costs_df = ha_costs_df.drop(columns = ['geography', 'primary_race','primary_denominator','year','measure','adjustment','analysis','domain','primary_sex','primary_age','primary_dual'])"
   ]
  },
  {
   "cell_type": "code",
   "execution_count": 5,
   "metadata": {},
   "outputs": [
    {
     "data": {
      "text/html": [
       "<div>\n",
       "<style scoped>\n",
       "    .dataframe tbody tr th:only-of-type {\n",
       "        vertical-align: middle;\n",
       "    }\n",
       "\n",
       "    .dataframe tbody tr th {\n",
       "        vertical-align: top;\n",
       "    }\n",
       "\n",
       "    .dataframe thead th {\n",
       "        text-align: right;\n",
       "    }\n",
       "</style>\n",
       "<table border=\"1\" class=\"dataframe\">\n",
       "  <thead>\n",
       "    <tr style=\"text-align: right;\">\n",
       "      <th></th>\n",
       "      <th>condition</th>\n",
       "      <th>fips</th>\n",
       "      <th>county</th>\n",
       "      <th>state</th>\n",
       "      <th>urban</th>\n",
       "      <th>analysis_value</th>\n",
       "    </tr>\n",
       "  </thead>\n",
       "  <tbody>\n",
       "    <tr>\n",
       "      <th>0</th>\n",
       "      <td>Acute myocardial infarction</td>\n",
       "      <td>1001</td>\n",
       "      <td>Autauga County</td>\n",
       "      <td>ALABAMA</td>\n",
       "      <td>Urban</td>\n",
       "      <td>40470</td>\n",
       "    </tr>\n",
       "    <tr>\n",
       "      <th>1</th>\n",
       "      <td>Acute myocardial infarction</td>\n",
       "      <td>1003</td>\n",
       "      <td>Baldwin County</td>\n",
       "      <td>ALABAMA</td>\n",
       "      <td>Rural</td>\n",
       "      <td>36615</td>\n",
       "    </tr>\n",
       "    <tr>\n",
       "      <th>2</th>\n",
       "      <td>Acute myocardial infarction</td>\n",
       "      <td>1005</td>\n",
       "      <td>Barbour County</td>\n",
       "      <td>ALABAMA</td>\n",
       "      <td>Rural</td>\n",
       "      <td>46509</td>\n",
       "    </tr>\n",
       "    <tr>\n",
       "      <th>3</th>\n",
       "      <td>Acute myocardial infarction</td>\n",
       "      <td>1007</td>\n",
       "      <td>Bibb County</td>\n",
       "      <td>ALABAMA</td>\n",
       "      <td>Urban</td>\n",
       "      <td>42949</td>\n",
       "    </tr>\n",
       "    <tr>\n",
       "      <th>4</th>\n",
       "      <td>Acute myocardial infarction</td>\n",
       "      <td>1009</td>\n",
       "      <td>Blount County</td>\n",
       "      <td>ALABAMA</td>\n",
       "      <td>Urban</td>\n",
       "      <td>50067</td>\n",
       "    </tr>\n",
       "  </tbody>\n",
       "</table>\n",
       "</div>"
      ],
      "text/plain": [
       "                     condition  fips          county    state  urban  \\\n",
       "0  Acute myocardial infarction  1001  Autauga County  ALABAMA  Urban   \n",
       "1  Acute myocardial infarction  1003  Baldwin County  ALABAMA  Rural   \n",
       "2  Acute myocardial infarction  1005  Barbour County  ALABAMA  Rural   \n",
       "3  Acute myocardial infarction  1007     Bibb County  ALABAMA  Urban   \n",
       "4  Acute myocardial infarction  1009   Blount County  ALABAMA  Urban   \n",
       "\n",
       "   analysis_value  \n",
       "0           40470  \n",
       "1           36615  \n",
       "2           46509  \n",
       "3           42949  \n",
       "4           50067  "
      ]
     },
     "execution_count": 5,
     "metadata": {},
     "output_type": "execute_result"
    }
   ],
   "source": [
    "#check new header\n",
    "\n",
    "ha_costs_df.head(5)"
   ]
  },
  {
   "cell_type": "code",
   "execution_count": 6,
   "metadata": {},
   "outputs": [],
   "source": [
    "#Keep only the rows where facilities are in TN\n",
    "\n",
    "ha_costs_tn = ha_costs_df.loc[ha_costs_df['state'] == 'TENNESSEE']"
   ]
  },
  {
   "cell_type": "code",
   "execution_count": 7,
   "metadata": {},
   "outputs": [
    {
     "data": {
      "text/plain": [
       "(91, 6)"
      ]
     },
     "execution_count": 7,
     "metadata": {},
     "output_type": "execute_result"
    }
   ],
   "source": [
    "#Print dimensions\n",
    "\n",
    "ha_costs_tn.shape"
   ]
  },
  {
   "cell_type": "code",
   "execution_count": 8,
   "metadata": {},
   "outputs": [
    {
     "data": {
      "text/plain": [
       "91"
      ]
     },
     "execution_count": 8,
     "metadata": {},
     "output_type": "execute_result"
    }
   ],
   "source": [
    "#How many counties are unique?\n",
    "\n",
    "ha_costs_tn.county.nunique()"
   ]
  },
  {
   "cell_type": "code",
   "execution_count": 9,
   "metadata": {},
   "outputs": [
    {
     "data": {
      "text/plain": [
       "Rural    53\n",
       "Urban    38\n",
       "Name: urban, dtype: int64"
      ]
     },
     "execution_count": 9,
     "metadata": {},
     "output_type": "execute_result"
    }
   ],
   "source": [
    "#How many counties are urban? rural?\n",
    "\n",
    "ha_costs_tn['urban'].value_counts()"
   ]
  },
  {
   "cell_type": "code",
   "execution_count": 10,
   "metadata": {},
   "outputs": [],
   "source": [
    "cancer_costs_df = pd.read_csv('../data/mmd_cancer_data.csv')"
   ]
  },
  {
   "cell_type": "code",
   "execution_count": 11,
   "metadata": {},
   "outputs": [],
   "source": [
    "#remove unneccessary columns aka those which have all the same value\n",
    "\n",
    "cancer_costs_df = cancer_costs_df.drop(columns = ['geography', 'primary_race','primary_denominator','year','measure','adjustment','analysis','domain','primary_sex','primary_age','primary_dual'])"
   ]
  },
  {
   "cell_type": "code",
   "execution_count": 12,
   "metadata": {},
   "outputs": [],
   "source": [
    "#Keep only the rows where facilities are in TN\n",
    "\n",
    "cancer_costs_tn = cancer_costs_df.loc[cancer_costs_df['state'] == 'TENNESSEE']"
   ]
  },
  {
   "cell_type": "code",
   "execution_count": 13,
   "metadata": {},
   "outputs": [
    {
     "data": {
      "text/plain": [
       "(95, 6)"
      ]
     },
     "execution_count": 13,
     "metadata": {},
     "output_type": "execute_result"
    }
   ],
   "source": [
    "#Print dimensions\n",
    "\n",
    "cancer_costs_tn.shape"
   ]
  },
  {
   "cell_type": "code",
   "execution_count": 14,
   "metadata": {},
   "outputs": [
    {
     "data": {
      "text/plain": [
       "95"
      ]
     },
     "execution_count": 14,
     "metadata": {},
     "output_type": "execute_result"
    }
   ],
   "source": [
    "cancer_costs_tn['county'].nunique()"
   ]
  },
  {
   "cell_type": "code",
   "execution_count": 15,
   "metadata": {},
   "outputs": [
    {
     "data": {
      "text/plain": [
       "2429      Hancock County\n",
       "2459        Moore County\n",
       "2464      Pickett County\n",
       "2483    Van Buren County\n",
       "Name: county, dtype: object"
      ]
     },
     "execution_count": 15,
     "metadata": {},
     "output_type": "execute_result"
    }
   ],
   "source": [
    "#Which counties are missing between the two data sets?\n",
    "\n",
    "cancer_costs_tn.loc[~cancer_costs_tn['county'].isin(ha_costs_tn['county'])]['county']"
   ]
  },
  {
   "cell_type": "code",
   "execution_count": 16,
   "metadata": {},
   "outputs": [],
   "source": [
    "#import new INCOME dataframe\n",
    "\n",
    "income_df = pd.read_csv('../data/irs_county_2016.csv')"
   ]
  },
  {
   "cell_type": "code",
   "execution_count": 17,
   "metadata": {},
   "outputs": [
    {
     "data": {
      "text/plain": [
       "(25536, 148)"
      ]
     },
     "execution_count": 17,
     "metadata": {},
     "output_type": "execute_result"
    }
   ],
   "source": [
    "income_df.shape"
   ]
  },
  {
   "cell_type": "code",
   "execution_count": 19,
   "metadata": {},
   "outputs": [],
   "source": [
    "#create new data frame with only TN\n",
    "\n",
    "income_tn = income_df.loc[income_df['STATE'] == 'TN']"
   ]
  },
  {
   "cell_type": "code",
   "execution_count": 20,
   "metadata": {},
   "outputs": [],
   "source": [
    "#Keep only specified columns\n",
    "\n",
    "income_tn = income_tn.loc[:,['STATE', 'COUNTYNAME', 'agi_stub', 'N1', 'mars1', 'MARS2', 'MARS4', 'N2', 'NUMDEP', 'ELDERLY', 'A00100', 'N02650', 'A02650', 'N02300', 'A02300']]"
   ]
  },
  {
   "cell_type": "code",
   "execution_count": 21,
   "metadata": {},
   "outputs": [],
   "source": [
    "#rename columns\n",
    "\n",
    "income_tn.columns = ['state', 'county', 'income_bucket', 'return_count', 'single_returns', 'joint_returns', 'head_of_house_returns', 'exemptions', 'dependents', 'elderly', 'agi', 'returns_with_total_inc','total_inc_amt', 'returns_with_unemployment', 'unemployment_comp']"
   ]
  },
  {
   "cell_type": "code",
   "execution_count": 22,
   "metadata": {
    "scrolled": true
   },
   "outputs": [
    {
     "data": {
      "text/plain": [
       "count       38.000000\n",
       "mean     45748.921053\n",
       "std       7109.788921\n",
       "min      32279.000000\n",
       "25%      40452.750000\n",
       "50%      45496.500000\n",
       "75%      50734.500000\n",
       "max      61541.000000\n",
       "Name: analysis_value, dtype: float64"
      ]
     },
     "execution_count": 22,
     "metadata": {},
     "output_type": "execute_result"
    }
   ],
   "source": [
    "#Determine differences in distrubutions of 'analysis' column between heart attack costs and cancer costs dataframes\n",
    "\n",
    "ha_costs_tn_urban = ha_costs_tn.loc[ha_costs_tn['urban'] == 'Urban']\n",
    "ha_costs_tn_urban.analysis_value.describe()"
   ]
  },
  {
   "cell_type": "code",
   "execution_count": 26,
   "metadata": {},
   "outputs": [
    {
     "data": {
      "text/plain": [
       "count       95.000000\n",
       "mean     19757.894737\n",
       "std       2436.304533\n",
       "min      15454.000000\n",
       "25%      18103.500000\n",
       "50%      19563.000000\n",
       "75%      21153.000000\n",
       "max      27740.000000\n",
       "Name: analysis_value, dtype: float64"
      ]
     },
     "execution_count": 26,
     "metadata": {},
     "output_type": "execute_result"
    }
   ],
   "source": [
    "cancer_costs_tn.analysis_value.describe()"
   ]
  },
  {
   "cell_type": "code",
   "execution_count": 24,
   "metadata": {
    "scrolled": true
   },
   "outputs": [
    {
     "data": {
      "text/plain": [
       "<matplotlib.legend.Legend at 0x7f83a2cd5c10>"
      ]
     },
     "execution_count": 24,
     "metadata": {},
     "output_type": "execute_result"
    },
    {
     "data": {
      "image/png": "[encoded data removed]",
      "text/plain": [
       "<Figure size 432x288 with 1 Axes>"
      ]
     },
     "metadata": {
      "needs_background": "light"
     },
     "output_type": "display_data"
    }
   ],
   "source": [
    "#another way... using a histogram\n",
    "\n",
    "h = ha_costs_tn.analysis_value[ha_costs_tn.urban == 'Urban'].hist(alpha=0.5,bins=25,label='Ha Costs - Urban')\n",
    "ha_costs_tn.analysis_value[ha_costs_tn.urban == 'Rural'].hist(alpha=0.5,bins=25,label='Ha Costs - Rural')\n",
    "h.legend()"
   ]
  },
  {
   "cell_type": "code",
   "execution_count": 25,
   "metadata": {},
   "outputs": [
    {
     "data": {
      "text/html": [
       "<div>\n",
       "<style scoped>\n",
       "    .dataframe tbody tr th:only-of-type {\n",
       "        vertical-align: middle;\n",
       "    }\n",
       "\n",
       "    .dataframe tbody tr th {\n",
       "        vertical-align: top;\n",
       "    }\n",
       "\n",
       "    .dataframe thead th {\n",
       "        text-align: right;\n",
       "    }\n",
       "</style>\n",
       "<table border=\"1\" class=\"dataframe\">\n",
       "  <thead>\n",
       "    <tr style=\"text-align: right;\">\n",
       "      <th></th>\n",
       "      <th>fips</th>\n",
       "      <th>analysis_value</th>\n",
       "    </tr>\n",
       "    <tr>\n",
       "      <th>urban</th>\n",
       "      <th></th>\n",
       "      <th></th>\n",
       "    </tr>\n",
       "  </thead>\n",
       "  <tbody>\n",
       "    <tr>\n",
       "      <th>Rural</th>\n",
       "      <td>47086.320755</td>\n",
       "      <td>45773.075472</td>\n",
       "    </tr>\n",
       "    <tr>\n",
       "      <th>Urban</th>\n",
       "      <td>47103.789474</td>\n",
       "      <td>45748.921053</td>\n",
       "    </tr>\n",
       "  </tbody>\n",
       "</table>\n",
       "</div>"
      ],
      "text/plain": [
       "               fips  analysis_value\n",
       "urban                              \n",
       "Rural  47086.320755    45773.075472\n",
       "Urban  47103.789474    45748.921053"
      ]
     },
     "execution_count": 25,
     "metadata": {},
     "output_type": "execute_result"
    }
   ],
   "source": [
    "#another way using groupby()\n",
    "\n",
    "ha_costs_tn.groupby(['urban']).mean()"
   ]
  },
  {
   "cell_type": "code",
   "execution_count": 28,
   "metadata": {},
   "outputs": [],
   "source": [
    "income_dict = {0:'Total', 1:'Under $1', 2:'Between 1 and $10,000', \n",
    " 3:'Between 10,000 and $25,000',4:'Between 25,000 and $50,000', 5:'Between 50,000 and $75,000', 6:'Between 75,000 and $100,000', 7:'Between 100,000 and $200,000', 8:'$200,000 or more'}"
   ]
  },
  {
   "cell_type": "code",
   "execution_count": 32,
   "metadata": {},
   "outputs": [
    {
     "data": {
      "text/html": [
       "<div>\n",
       "<style scoped>\n",
       "    .dataframe tbody tr th:only-of-type {\n",
       "        vertical-align: middle;\n",
       "    }\n",
       "\n",
       "    .dataframe tbody tr th {\n",
       "        vertical-align: top;\n",
       "    }\n",
       "\n",
       "    .dataframe thead th {\n",
       "        text-align: right;\n",
       "    }\n",
       "</style>\n",
       "<table border=\"1\" class=\"dataframe\">\n",
       "  <thead>\n",
       "    <tr style=\"text-align: right;\">\n",
       "      <th></th>\n",
       "      <th>state</th>\n",
       "      <th>county</th>\n",
       "      <th>income_bucket</th>\n",
       "      <th>return_count</th>\n",
       "      <th>single_returns</th>\n",
       "      <th>joint_returns</th>\n",
       "      <th>head_of_house_returns</th>\n",
       "      <th>exemptions</th>\n",
       "      <th>dependents</th>\n",
       "      <th>elderly</th>\n",
       "      <th>agi</th>\n",
       "      <th>returns_with_total_inc</th>\n",
       "      <th>total_inc_amt</th>\n",
       "      <th>returns_with_unemployment</th>\n",
       "      <th>unemployment_comp</th>\n",
       "    </tr>\n",
       "  </thead>\n",
       "  <tbody>\n",
       "    <tr>\n",
       "      <th>19752</th>\n",
       "      <td>TN</td>\n",
       "      <td>Tennessee</td>\n",
       "      <td>Under $1</td>\n",
       "      <td>39580</td>\n",
       "      <td>22400</td>\n",
       "      <td>14440</td>\n",
       "      <td>980</td>\n",
       "      <td>60360</td>\n",
       "      <td>8230</td>\n",
       "      <td>19090</td>\n",
       "      <td>-2747555</td>\n",
       "      <td>29090</td>\n",
       "      <td>-2710342</td>\n",
       "      <td>90</td>\n",
       "      <td>348</td>\n",
       "    </tr>\n",
       "    <tr>\n",
       "      <th>19753</th>\n",
       "      <td>TN</td>\n",
       "      <td>Tennessee</td>\n",
       "      <td>Between 1 and $10,000</td>\n",
       "      <td>439770</td>\n",
       "      <td>345410</td>\n",
       "      <td>39920</td>\n",
       "      <td>49300</td>\n",
       "      <td>443540</td>\n",
       "      <td>108380</td>\n",
       "      <td>74190</td>\n",
       "      <td>2366417</td>\n",
       "      <td>439780</td>\n",
       "      <td>2441687</td>\n",
       "      <td>4830</td>\n",
       "      <td>12132</td>\n",
       "    </tr>\n",
       "    <tr>\n",
       "      <th>19754</th>\n",
       "      <td>TN</td>\n",
       "      <td>Tennessee</td>\n",
       "      <td>Between 10,000 and $25,000</td>\n",
       "      <td>717430</td>\n",
       "      <td>398720</td>\n",
       "      <td>115040</td>\n",
       "      <td>189290</td>\n",
       "      <td>1269420</td>\n",
       "      <td>472350</td>\n",
       "      <td>141070</td>\n",
       "      <td>12289681</td>\n",
       "      <td>717430</td>\n",
       "      <td>12486175</td>\n",
       "      <td>19660</td>\n",
       "      <td>58771</td>\n",
       "    </tr>\n",
       "    <tr>\n",
       "      <th>19755</th>\n",
       "      <td>TN</td>\n",
       "      <td>Tennessee</td>\n",
       "      <td>Between 25,000 and $50,000</td>\n",
       "      <td>759340</td>\n",
       "      <td>355970</td>\n",
       "      <td>217710</td>\n",
       "      <td>159890</td>\n",
       "      <td>1486710</td>\n",
       "      <td>512170</td>\n",
       "      <td>154020</td>\n",
       "      <td>27370414</td>\n",
       "      <td>759340</td>\n",
       "      <td>27694026</td>\n",
       "      <td>19120</td>\n",
       "      <td>57012</td>\n",
       "    </tr>\n",
       "    <tr>\n",
       "      <th>19756</th>\n",
       "      <td>TN</td>\n",
       "      <td>Tennessee</td>\n",
       "      <td>Between 50,000 and $75,000</td>\n",
       "      <td>396810</td>\n",
       "      <td>128390</td>\n",
       "      <td>215890</td>\n",
       "      <td>42240</td>\n",
       "      <td>881020</td>\n",
       "      <td>268500</td>\n",
       "      <td>106740</td>\n",
       "      <td>24350682</td>\n",
       "      <td>396810</td>\n",
       "      <td>24651803</td>\n",
       "      <td>10630</td>\n",
       "      <td>33894</td>\n",
       "    </tr>\n",
       "    <tr>\n",
       "      <th>19757</th>\n",
       "      <td>TN</td>\n",
       "      <td>Tennessee</td>\n",
       "      <td>Between 75,000 and $100,000</td>\n",
       "      <td>241730</td>\n",
       "      <td>43690</td>\n",
       "      <td>182110</td>\n",
       "      <td>12690</td>\n",
       "      <td>606940</td>\n",
       "      <td>183160</td>\n",
       "      <td>71640</td>\n",
       "      <td>20916820</td>\n",
       "      <td>241730</td>\n",
       "      <td>21167809</td>\n",
       "      <td>6350</td>\n",
       "      <td>21411</td>\n",
       "    </tr>\n",
       "    <tr>\n",
       "      <th>19758</th>\n",
       "      <td>TN</td>\n",
       "      <td>Tennessee</td>\n",
       "      <td>Between 100,000 and $200,000</td>\n",
       "      <td>298270</td>\n",
       "      <td>33380</td>\n",
       "      <td>254300</td>\n",
       "      <td>8230</td>\n",
       "      <td>807590</td>\n",
       "      <td>255170</td>\n",
       "      <td>91150</td>\n",
       "      <td>39800165</td>\n",
       "      <td>298270</td>\n",
       "      <td>40397276</td>\n",
       "      <td>5490</td>\n",
       "      <td>20281</td>\n",
       "    </tr>\n",
       "    <tr>\n",
       "      <th>19759</th>\n",
       "      <td>TN</td>\n",
       "      <td>Tennessee</td>\n",
       "      <td>$200,000 or more</td>\n",
       "      <td>97920</td>\n",
       "      <td>8640</td>\n",
       "      <td>85910</td>\n",
       "      <td>1760</td>\n",
       "      <td>281650</td>\n",
       "      <td>97810</td>\n",
       "      <td>31990</td>\n",
       "      <td>50066256</td>\n",
       "      <td>97920</td>\n",
       "      <td>51122320</td>\n",
       "      <td>560</td>\n",
       "      <td>2401</td>\n",
       "    </tr>\n",
       "    <tr>\n",
       "      <th>19760</th>\n",
       "      <td>TN</td>\n",
       "      <td>Anderson County</td>\n",
       "      <td>Under $1</td>\n",
       "      <td>390</td>\n",
       "      <td>220</td>\n",
       "      <td>140</td>\n",
       "      <td>0</td>\n",
       "      <td>570</td>\n",
       "      <td>60</td>\n",
       "      <td>210</td>\n",
       "      <td>-7663</td>\n",
       "      <td>240</td>\n",
       "      <td>-7465</td>\n",
       "      <td>0</td>\n",
       "      <td>0</td>\n",
       "    </tr>\n",
       "    <tr>\n",
       "      <th>19761</th>\n",
       "      <td>TN</td>\n",
       "      <td>Anderson County</td>\n",
       "      <td>Between 1 and $10,000</td>\n",
       "      <td>5170</td>\n",
       "      <td>4010</td>\n",
       "      <td>500</td>\n",
       "      <td>610</td>\n",
       "      <td>5330</td>\n",
       "      <td>1260</td>\n",
       "      <td>950</td>\n",
       "      <td>27496</td>\n",
       "      <td>5170</td>\n",
       "      <td>28135</td>\n",
       "      <td>60</td>\n",
       "      <td>156</td>\n",
       "    </tr>\n",
       "  </tbody>\n",
       "</table>\n",
       "</div>"
      ],
      "text/plain": [
       "      state           county                 income_bucket  return_count  \\\n",
       "19752    TN        Tennessee                      Under $1         39580   \n",
       "19753    TN        Tennessee         Between 1 and $10,000        439770   \n",
       "19754    TN        Tennessee    Between 10,000 and $25,000        717430   \n",
       "19755    TN        Tennessee    Between 25,000 and $50,000        759340   \n",
       "19756    TN        Tennessee    Between 50,000 and $75,000        396810   \n",
       "19757    TN        Tennessee   Between 75,000 and $100,000        241730   \n",
       "19758    TN        Tennessee  Between 100,000 and $200,000        298270   \n",
       "19759    TN        Tennessee              $200,000 or more         97920   \n",
       "19760    TN  Anderson County                      Under $1           390   \n",
       "19761    TN  Anderson County         Between 1 and $10,000          5170   \n",
       "\n",
       "       single_returns  joint_returns  head_of_house_returns  exemptions  \\\n",
       "19752           22400          14440                    980       60360   \n",
       "19753          345410          39920                  49300      443540   \n",
       "19754          398720         115040                 189290     1269420   \n",
       "19755          355970         217710                 159890     1486710   \n",
       "19756          128390         215890                  42240      881020   \n",
       "19757           43690         182110                  12690      606940   \n",
       "19758           33380         254300                   8230      807590   \n",
       "19759            8640          85910                   1760      281650   \n",
       "19760             220            140                      0         570   \n",
       "19761            4010            500                    610        5330   \n",
       "\n",
       "       dependents  elderly       agi  returns_with_total_inc  total_inc_amt  \\\n",
       "19752        8230    19090  -2747555                   29090       -2710342   \n",
       "19753      108380    74190   2366417                  439780        2441687   \n",
       "19754      472350   141070  12289681                  717430       12486175   \n",
       "19755      512170   154020  27370414                  759340       27694026   \n",
       "19756      268500   106740  24350682                  396810       24651803   \n",
       "19757      183160    71640  20916820                  241730       21167809   \n",
       "19758      255170    91150  39800165                  298270       40397276   \n",
       "19759       97810    31990  50066256                   97920       51122320   \n",
       "19760          60      210     -7663                     240          -7465   \n",
       "19761        1260      950     27496                    5170          28135   \n",
       "\n",
       "       returns_with_unemployment  unemployment_comp  \n",
       "19752                         90                348  \n",
       "19753                       4830              12132  \n",
       "19754                      19660              58771  \n",
       "19755                      19120              57012  \n",
       "19756                      10630              33894  \n",
       "19757                       6350              21411  \n",
       "19758                       5490              20281  \n",
       "19759                        560               2401  \n",
       "19760                          0                  0  \n",
       "19761                         60                156  "
      ]
     },
     "execution_count": 32,
     "metadata": {},
     "output_type": "execute_result"
    }
   ],
   "source": [
    "income_tn.income_bucket = income_tn.income_bucket.replace(income_dict)\n",
    "income_tn.head(10)"
   ]
  },
  {
   "cell_type": "code",
   "execution_count": 34,
   "metadata": {},
   "outputs": [
    {
     "data": {
      "text/html": [
       "<div>\n",
       "<style scoped>\n",
       "    .dataframe tbody tr th:only-of-type {\n",
       "        vertical-align: middle;\n",
       "    }\n",
       "\n",
       "    .dataframe tbody tr th {\n",
       "        vertical-align: top;\n",
       "    }\n",
       "\n",
       "    .dataframe thead th {\n",
       "        text-align: right;\n",
       "    }\n",
       "</style>\n",
       "<table border=\"1\" class=\"dataframe\">\n",
       "  <thead>\n",
       "    <tr style=\"text-align: right;\">\n",
       "      <th></th>\n",
       "      <th>county</th>\n",
       "      <th>return_count</th>\n",
       "      <th>single_returns</th>\n",
       "      <th>joint_returns</th>\n",
       "      <th>head_of_house_returns</th>\n",
       "      <th>exemptions</th>\n",
       "      <th>dependents</th>\n",
       "      <th>elderly</th>\n",
       "      <th>agi</th>\n",
       "      <th>returns_with_total_inc</th>\n",
       "      <th>total_inc_amt</th>\n",
       "      <th>returns_with_unemployment</th>\n",
       "      <th>unemployment_comp</th>\n",
       "    </tr>\n",
       "  </thead>\n",
       "  <tbody>\n",
       "    <tr>\n",
       "      <th>0</th>\n",
       "      <td>Anderson County</td>\n",
       "      <td>34290</td>\n",
       "      <td>14990</td>\n",
       "      <td>14030</td>\n",
       "      <td>4550</td>\n",
       "      <td>65950</td>\n",
       "      <td>19620</td>\n",
       "      <td>9670</td>\n",
       "      <td>1807309</td>\n",
       "      <td>34140</td>\n",
       "      <td>1830482</td>\n",
       "      <td>700</td>\n",
       "      <td>2452</td>\n",
       "    </tr>\n",
       "    <tr>\n",
       "      <th>1</th>\n",
       "      <td>Bedford County</td>\n",
       "      <td>20920</td>\n",
       "      <td>8600</td>\n",
       "      <td>8010</td>\n",
       "      <td>3910</td>\n",
       "      <td>43550</td>\n",
       "      <td>15790</td>\n",
       "      <td>4430</td>\n",
       "      <td>971152</td>\n",
       "      <td>20840</td>\n",
       "      <td>985909</td>\n",
       "      <td>410</td>\n",
       "      <td>1023</td>\n",
       "    </tr>\n",
       "    <tr>\n",
       "      <th>2</th>\n",
       "      <td>Benton County</td>\n",
       "      <td>6610</td>\n",
       "      <td>2660</td>\n",
       "      <td>2840</td>\n",
       "      <td>1000</td>\n",
       "      <td>13020</td>\n",
       "      <td>3890</td>\n",
       "      <td>2000</td>\n",
       "      <td>269227</td>\n",
       "      <td>6580</td>\n",
       "      <td>272971</td>\n",
       "      <td>360</td>\n",
       "      <td>1119</td>\n",
       "    </tr>\n",
       "    <tr>\n",
       "      <th>3</th>\n",
       "      <td>Bledsoe County</td>\n",
       "      <td>4560</td>\n",
       "      <td>1620</td>\n",
       "      <td>2220</td>\n",
       "      <td>610</td>\n",
       "      <td>9690</td>\n",
       "      <td>3100</td>\n",
       "      <td>1200</td>\n",
       "      <td>178860</td>\n",
       "      <td>4540</td>\n",
       "      <td>181231</td>\n",
       "      <td>160</td>\n",
       "      <td>458</td>\n",
       "    </tr>\n",
       "    <tr>\n",
       "      <th>4</th>\n",
       "      <td>Blount County</td>\n",
       "      <td>59550</td>\n",
       "      <td>25090</td>\n",
       "      <td>26650</td>\n",
       "      <td>6550</td>\n",
       "      <td>115820</td>\n",
       "      <td>33400</td>\n",
       "      <td>16880</td>\n",
       "      <td>3333654</td>\n",
       "      <td>59350</td>\n",
       "      <td>3381616</td>\n",
       "      <td>1190</td>\n",
       "      <td>3551</td>\n",
       "    </tr>\n",
       "  </tbody>\n",
       "</table>\n",
       "</div>"
      ],
      "text/plain": [
       "            county  return_count  single_returns  joint_returns  \\\n",
       "0  Anderson County         34290           14990          14030   \n",
       "1   Bedford County         20920            8600           8010   \n",
       "2    Benton County          6610            2660           2840   \n",
       "3   Bledsoe County          4560            1620           2220   \n",
       "4    Blount County         59550           25090          26650   \n",
       "\n",
       "   head_of_house_returns  exemptions  dependents  elderly      agi  \\\n",
       "0                   4550       65950       19620     9670  1807309   \n",
       "1                   3910       43550       15790     4430   971152   \n",
       "2                   1000       13020        3890     2000   269227   \n",
       "3                    610        9690        3100     1200   178860   \n",
       "4                   6550      115820       33400    16880  3333654   \n",
       "\n",
       "   returns_with_total_inc  total_inc_amt  returns_with_unemployment  \\\n",
       "0                   34140        1830482                        700   \n",
       "1                   20840         985909                        410   \n",
       "2                    6580         272971                        360   \n",
       "3                    4540         181231                        160   \n",
       "4                   59350        3381616                       1190   \n",
       "\n",
       "   unemployment_comp  \n",
       "0               2452  \n",
       "1               1023  \n",
       "2               1119  \n",
       "3                458  \n",
       "4               3551  "
      ]
     },
     "execution_count": 34,
     "metadata": {},
     "output_type": "execute_result"
    }
   ],
   "source": [
    "income_county_agg = income_tn.groupby(by=['county']).sum().reset_index()\n",
    "income_county_agg.head(5)"
   ]
  },
  {
   "cell_type": "code",
   "execution_count": 36,
   "metadata": {},
   "outputs": [
    {
     "data": {
      "text/plain": [
       "county                       Shelby County\n",
       "return_count                        431650\n",
       "single_returns                      205500\n",
       "joint_returns                       104290\n",
       "head_of_house_returns               112920\n",
       "exemptions                          836590\n",
       "dependents                          325450\n",
       "elderly                              86860\n",
       "agi                               25467506\n",
       "returns_with_total_inc              430150\n",
       "total_inc_amt                     25843890\n",
       "returns_with_unemployment             8020\n",
       "unemployment_comp                    26306\n",
       "Name: 78, dtype: object"
      ]
     },
     "execution_count": 36,
     "metadata": {},
     "output_type": "execute_result"
    }
   ],
   "source": [
    "#which county has the greatest number of returns?\n",
    "#exclude total \"Tennessee\" data to leave just individual county data\n",
    "\n",
    "income_county_agg = income_county_agg.loc[income_county_agg['county'] != 'Tennessee'] \n",
    "\n",
    "#use idx.max() to \n",
    "income_county_agg.loc[income_county_agg_county_only['return_count'].idxmax()]"
   ]
  },
  {
   "cell_type": "code",
   "execution_count": 39,
   "metadata": {},
   "outputs": [
    {
     "data": {
      "text/plain": [
       "county                       Shelby County\n",
       "return_count                        431650\n",
       "single_returns                      205500\n",
       "joint_returns                       104290\n",
       "head_of_house_returns               112920\n",
       "exemptions                          836590\n",
       "dependents                          325450\n",
       "elderly                              86860\n",
       "agi                               25467506\n",
       "returns_with_total_inc              430150\n",
       "total_inc_amt                     25843890\n",
       "returns_with_unemployment             8020\n",
       "unemployment_comp                    26306\n",
       "Name: 78, dtype: object"
      ]
     },
     "execution_count": 39,
     "metadata": {},
     "output_type": "execute_result"
    }
   ],
   "source": [
    "#Does it also have the greatest total income? If same result, yes.\n",
    "\n",
    "income_county_agg.loc[income_county_agg_county_only['agi'].idxmax()]"
   ]
  },
  {
   "cell_type": "code",
   "execution_count": null,
   "metadata": {},
   "outputs": [],
   "source": []
  }
 ],
 "metadata": {
  "kernelspec": {
   "display_name": "Python 3",
   "language": "python",
   "name": "python3"
  },
  "language_info": {
   "codemirror_mode": {
    "name": "ipython",
    "version": 3
   },
   "file_extension": ".py",
   "mimetype": "text/x-python",
   "name": "python",
   "nbconvert_exporter": "python",
   "pygments_lexer": "ipython3",
   "version": "3.8.3"
  }
 },
 "nbformat": 4,
 "nbformat_minor": 4
}
